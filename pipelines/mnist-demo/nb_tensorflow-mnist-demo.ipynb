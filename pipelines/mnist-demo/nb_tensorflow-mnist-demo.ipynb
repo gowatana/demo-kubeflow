{
 "cells": [
  {
   "cell_type": "markdown",
   "metadata": {
    "colab_type": "text",
    "id": "view-in-github"
   },
   "source": [
    "<a href=\"https://colab.research.google.com/gist/gowatana/1fc66e48db015732e3a88870af2ac67b/demo-tensorflow-mnist.ipynb\" target=\"_parent\"><img src=\"https://colab.research.google.com/assets/colab-badge.svg\" alt=\"Open In Colab\"/></a>"
   ]
  },
  {
   "cell_type": "markdown",
   "metadata": {
    "id": "fLEkkAZNgQih"
   },
   "source": [
    "参考：初心者のための TensorFlow 2.0 入門\n",
    "* https://www.tensorflow.org/tutorials/quickstart/beginner?hl=ja\n",
    "\n",
    "パイプラインのデモむけに、あえて4分割してある。\n"
   ]
  },
  {
   "cell_type": "markdown",
   "metadata": {
    "id": "QjBez0LYtIBT"
   },
   "source": [
    "# 1. モデルの作成（コード分割）"
   ]
  },
  {
   "cell_type": "markdown",
   "metadata": {},
   "source": [
    "TensorFlowのインポート"
   ]
  },
  {
   "cell_type": "code",
   "execution_count": 3,
   "metadata": {},
   "outputs": [],
   "source": [
    "import tensorflow as tf"
   ]
  },
  {
   "cell_type": "markdown",
   "metadata": {
    "id": "ZT5V_7XBtCIa"
   },
   "source": [
    "TensorFlowのバージョン確認"
   ]
  },
  {
   "cell_type": "code",
   "execution_count": 2,
   "metadata": {
    "id": "_r9_EO26s8Zh"
   },
   "outputs": [
    {
     "name": "stdout",
     "output_type": "stream",
     "text": [
      "2.5.3\n"
     ]
    }
   ],
   "source": [
    "print(tf.__version__)"
   ]
  },
  {
   "cell_type": "markdown",
   "metadata": {},
   "source": [
    "# 1. 画像判別モデルの作成"
   ]
  },
  {
   "cell_type": "markdown",
   "metadata": {
    "id": "sBmLDehltRLq"
   },
   "source": [
    "## 1-1. データセットの保存\n",
    "\n",
    "サンプル データセット（MNIST）をダウンロードして保存する。"
   ]
  },
  {
   "cell_type": "code",
   "execution_count": 8,
   "metadata": {},
   "outputs": [],
   "source": [
    "# 1. データセットの保存\n",
    "import tensorflow as tf\n",
    "import numpy as np\n",
    "import os\n",
    "\n",
    "# データセットをダウンロードして保存するディレクトリを指定\n",
    "save_dir = './dataset'\n",
    "\n",
    "# ディレクトリが存在しない場合にディレクトリを作成\n",
    "if not os.path.exists(save_dir):\n",
    "    os.makedirs(save_dir)\n",
    "    \n",
    "# MNISTデータセットをダウンロード（初回のみ）\n",
    "mnist = tf.keras.datasets.mnist\n",
    "(x_train, y_train), (x_test, y_test) = mnist.load_data()\n",
    "\n",
    "# データセットを指定したディレクトリに保存\n",
    "np.savez_compressed(os.path.join(save_dir, 'mnist.npz'), x_train=x_train, y_train=y_train, x_test=x_test, y_test=y_test)"
   ]
  },
  {
   "cell_type": "markdown",
   "metadata": {},
   "source": [
    "## 1-2. データセットをロードして前処理"
   ]
  },
  {
   "cell_type": "code",
   "execution_count": 12,
   "metadata": {},
   "outputs": [],
   "source": [
    "# 2. データセットをロードして前処理\n",
    "import tensorflow as tf\n",
    "import numpy as np\n",
    "import os\n",
    "\n",
    "# データセットをダウンロードして保存するディレクトリを指定\n",
    "load_dir = './dataset'\n",
    "save_dir = './preproc_dataset'\n",
    "\n",
    "# ディレクトリが存在しない場合にディレクトリを作成\n",
    "if not os.path.exists(save_dir):\n",
    "    os.makedirs(save_dir)\n",
    "    \n",
    "with np.load(os.path.join(load_dir, 'mnist.npz'), allow_pickle=True) as data:\n",
    "    x_train = data['x_train']\n",
    "    y_train = data['y_train']\n",
    "    x_test = data['x_test']\n",
    "    y_test = data['y_test']\n",
    "\n",
    "x_train, x_test = x_train / 255.0, x_test / 255.0\n",
    "np.savez_compressed(os.path.join(save_dir, 'mnist_normalized.npz'), x_train=x_train, y_train=y_train, x_test=x_test, y_test=y_test)"
   ]
  },
  {
   "cell_type": "markdown",
   "metadata": {},
   "source": [
    "## 1-3. 前処理済みのデータセットで学習 → モデルを保存"
   ]
  },
  {
   "cell_type": "code",
   "execution_count": 4,
   "metadata": {},
   "outputs": [
    {
     "name": "stderr",
     "output_type": "stream",
     "text": [
      "2024-02-19 09:00:21.578795: W tensorflow/core/framework/cpu_allocator_impl.cc:80] Allocation of 188160000 exceeds 10% of free system memory.\n"
     ]
    },
    {
     "name": "stdout",
     "output_type": "stream",
     "text": [
      "Epoch 1/5\n",
      "1875/1875 [==============================] - 22s 11ms/step - loss: 0.2950 - accuracy: 0.9141\n",
      "Epoch 2/5\n",
      "1875/1875 [==============================] - 21s 11ms/step - loss: 0.1426 - accuracy: 0.9571\n",
      "Epoch 3/5\n",
      "1875/1875 [==============================] - 21s 11ms/step - loss: 0.1059 - accuracy: 0.9675\n",
      "Epoch 4/5\n",
      "1875/1875 [==============================] - 21s 11ms/step - loss: 0.0853 - accuracy: 0.9734\n",
      "Epoch 5/5\n",
      "1875/1875 [==============================] - 27s 15ms/step - loss: 0.0748 - accuracy: 0.9767\n"
     ]
    },
    {
     "name": "stderr",
     "output_type": "stream",
     "text": [
      "2024-02-19 09:02:15.367874: W tensorflow/python/util/util.cc:348] Sets are not currently considered sequences, but this may change in the future, so consider avoiding using them.\n"
     ]
    },
    {
     "name": "stdout",
     "output_type": "stream",
     "text": [
      "INFO:tensorflow:Assets written to: ./saved_model/assets\n"
     ]
    }
   ],
   "source": [
    "# 3. 正規化されたデータセットをロードして学習\n",
    "# データセットをダウンロードして保存するディレクトリを指定\n",
    "import tensorflow as tf\n",
    "import numpy as np\n",
    "import os\n",
    "\n",
    "load_dir = './preproc_dataset'\n",
    "save_dir = './saved_model'\n",
    "\n",
    "# ディレクトリが存在しない場合にディレクトリを作成\n",
    "if not os.path.exists(save_dir):\n",
    "    os.makedirs(save_dir)\n",
    "\n",
    "with np.load(os.path.join(load_dir, 'mnist_normalized.npz'), allow_pickle=True) as data:\n",
    "    x_train = data['x_train']\n",
    "    y_train = data['y_train']\n",
    "    x_test = data['x_test']\n",
    "    y_test = data['y_test']\n",
    "    \n",
    "model = tf.keras.models.Sequential([\n",
    "    tf.keras.layers.Flatten(input_shape=(28, 28)),\n",
    "    tf.keras.layers.Dense(128, activation='relu'),\n",
    "    tf.keras.layers.Dropout(0.2),\n",
    "    tf.keras.layers.Dense(10)\n",
    "])\n",
    "loss_fn = tf.keras.losses.SparseCategoricalCrossentropy(from_logits=True)\n",
    "model.compile(optimizer='adam', loss=loss_fn, metrics=['accuracy'])\n",
    "model.fit(x_train, y_train, epochs=5)\n",
    "\n",
    "model.save(save_dir)"
   ]
  },
  {
   "cell_type": "markdown",
   "metadata": {
    "id": "h1gmTvYttzBQ"
   },
   "source": [
    "## 1-4. モデルのテスト"
   ]
  },
  {
   "cell_type": "code",
   "execution_count": 1,
   "metadata": {
    "id": "Dlu_X0_thoo8"
   },
   "outputs": [
    {
     "name": "stderr",
     "output_type": "stream",
     "text": [
      "2024-02-19 09:05:26.003948: W tensorflow/stream_executor/platform/default/dso_loader.cc:64] Could not load dynamic library 'libcudart.so.11.0'; dlerror: libcudart.so.11.0: cannot open shared object file: No such file or directory\n",
      "2024-02-19 09:05:26.004014: I tensorflow/stream_executor/cuda/cudart_stub.cc:29] Ignore above cudart dlerror if you do not have a GPU set up on your machine.\n",
      "2024-02-19 09:05:29.914114: W tensorflow/stream_executor/platform/default/dso_loader.cc:64] Could not load dynamic library 'libcuda.so.1'; dlerror: libcuda.so.1: cannot open shared object file: No such file or directory\n",
      "2024-02-19 09:05:29.914182: W tensorflow/stream_executor/cuda/cuda_driver.cc:326] failed call to cuInit: UNKNOWN ERROR (303)\n",
      "2024-02-19 09:05:29.914239: I tensorflow/stream_executor/cuda/cuda_diagnostics.cc:156] kernel driver does not appear to be running on this host (note-03-0): /proc/driver/nvidia/version does not exist\n",
      "2024-02-19 09:05:29.914588: I tensorflow/core/platform/cpu_feature_guard.cc:142] This TensorFlow binary is optimized with oneAPI Deep Neural Network Library (oneDNN) to use the following CPU instructions in performance-critical operations:  AVX2 FMA\n",
      "To enable them in other operations, rebuild TensorFlow with the appropriate compiler flags.\n",
      "2024-02-19 09:05:31.379986: I tensorflow/compiler/mlir/mlir_graph_optimization_pass.cc:176] None of the MLIR Optimization Passes are enabled (registered 2)\n",
      "2024-02-19 09:05:31.380759: I tensorflow/core/platform/profile_utils/cpu_utils.cc:114] CPU Frequency: 2111995000 Hz\n"
     ]
    },
    {
     "name": "stdout",
     "output_type": "stream",
     "text": [
      "313/313 - 3s - loss: 0.0706 - accuracy: 0.9774\n"
     ]
    },
    {
     "data": {
      "text/plain": [
       "[0.07055041939020157, 0.977400004863739]"
      ]
     },
     "execution_count": 1,
     "metadata": {},
     "output_type": "execute_result"
    }
   ],
   "source": [
    "# 4. モデルをロードしてテスト\n",
    "import tensorflow as tf\n",
    "import numpy as np\n",
    "import os\n",
    "\n",
    "data_load_dir = './preproc_dataset'\n",
    "model_load_dir = './saved_model'\n",
    "\n",
    "with np.load(os.path.join(data_load_dir, 'mnist_normalized.npz'), allow_pickle=True) as data:\n",
    "    x_test = data['x_test']\n",
    "    y_test = data['y_test']\n",
    "\n",
    "model = tf.keras.models.load_model(model_load_dir)\n",
    "loss_fn = tf.keras.losses.SparseCategoricalCrossentropy(from_logits=True)\n",
    "model.compile(optimizer='adam', loss=loss_fn, metrics=['accuracy'])\n",
    "model.evaluate(x_test, y_test, verbose=2)"
   ]
  },
  {
   "cell_type": "markdown",
   "metadata": {
    "id": "uurTNSoLo--N"
   },
   "source": [
    "# 2. 推論実行（画像の数値を判別）\n",
    "\n",
    "トレーニングで利用したデータなので、まず正解するはず。"
   ]
  },
  {
   "cell_type": "markdown",
   "metadata": {
    "id": "HDZtKdolzMFZ"
   },
   "source": [
    "## 2-1. MNISTのデータを画像ファイル（PNG）としての保存"
   ]
  },
  {
   "cell_type": "code",
   "execution_count": 10,
   "metadata": {
    "id": "8fIU1QGcpCYa"
   },
   "outputs": [],
   "source": [
    "from PIL import Image\n",
    "import tensorflow as tf\n",
    "import os\n",
    "\n",
    "dir_path = 'data/images'\n",
    "\n",
    "mnist = tf.keras.datasets.mnist\n",
    "(x_train, y_train), (x_test, y_test) = mnist.load_data()\n",
    "\n",
    "# 保存先のディレクトリを作成\n",
    "os.makedirs(dir_path, exist_ok=True)\n",
    "\n",
    "# 画像の保存\n",
    "for i in range(10):\n",
    "    img = Image.fromarray(x_train[i])\n",
    "    img.save(f'data/images/test_{i}.png')"
   ]
  },
  {
   "cell_type": "code",
   "execution_count": 11,
   "metadata": {
    "colab": {
     "base_uri": "https://localhost:8080/"
    },
    "id": "gs8W44q2pRGC",
    "outputId": "fb8f0180-9678-444c-dc1c-bd27a6b1f270"
   },
   "outputs": [
    {
     "name": "stdout",
     "output_type": "stream",
     "text": [
      "test_0.png\n",
      "test_1.png\n",
      "test_2.png\n",
      "test_3.png\n",
      "test_4.png\n",
      "test_5.png\n",
      "test_6.png\n",
      "test_7.png\n",
      "test_8.png\n",
      "test_9.png\n"
     ]
    }
   ],
   "source": [
    "!ls data/images/ | head"
   ]
  },
  {
   "cell_type": "markdown",
   "metadata": {
    "id": "FYIx02_Jpn_p"
   },
   "source": [
    "画像の表示\n",
    "\n",
    "ファイルを指定する。（例： train_1.png）"
   ]
  },
  {
   "cell_type": "code",
   "execution_count": 12,
   "metadata": {
    "id": "tjuWaCKpviLm"
   },
   "outputs": [],
   "source": [
    "img_file_name = 'data/images/test_7.png'"
   ]
  },
  {
   "cell_type": "markdown",
   "metadata": {
    "id": "vZRhNN4Pvty9"
   },
   "source": [
    "指定した画像を表示して確認。"
   ]
  },
  {
   "cell_type": "code",
   "execution_count": 13,
   "metadata": {
    "colab": {
     "base_uri": "https://localhost:8080/",
     "height": 430
    },
    "id": "0C2H6hu7pnKU",
    "outputId": "86402eaa-40a5-49a6-8ea9-d92500ad06b4"
   },
   "outputs": [
    {
     "data": {
      "image/png": "[encoded data removed]",
      "text/plain": [
       "<Figure size 640x480 with 1 Axes>"
      ]
     },
     "metadata": {},
     "output_type": "display_data"
    }
   ],
   "source": [
    "import matplotlib.pyplot as plt\n",
    "from PIL import Image\n",
    "\n",
    "img = Image.open(img_file_name)\n",
    "plt.imshow(img, cmap='gray')  # 画像がグレースケールなので cmap='gray' を指定\n",
    "plt.show()"
   ]
  },
  {
   "cell_type": "markdown",
   "metadata": {
    "id": "v3GNPHWbqJsC"
   },
   "source": [
    "## 2-2. 推論の実行\n",
    "\n",
    "事前に、img_file_name = 'data/images/test_7.png' を指定してあるはず。\n",
    "\n",
    "PIL（Python Image Library）のパッケージはPillow"
   ]
  },
  {
   "cell_type": "code",
   "execution_count": 17,
   "metadata": {
    "id": "cgmU2bzDphr7"
   },
   "outputs": [
    {
     "name": "stdout",
     "output_type": "stream",
     "text": [
      "Predicted class: [3]\n"
     ]
    }
   ],
   "source": [
    "from PIL import Image\n",
    "import numpy as np\n",
    "import tensorflow as tf\n",
    "\n",
    "# モデルを保存してあるパス\n",
    "model_dir_path = './saved_model'\n",
    "\n",
    "# 画像の読み込み\n",
    "img = Image.open(img_file_name)\n",
    "\n",
    "# 画像をグレースケールに変換し、サイズを28x28にリサイズ\n",
    "img = img.convert('L').resize((28, 28))\n",
    "\n",
    "# NumPy配列に変換し、値を0から1の範囲に正規化\n",
    "img_array = np.array(img) / 255.0\n",
    "\n",
    "# モデルの入力形式に合わせるために配列の形状を変更（バッチサイズの次元を追加）\n",
    "img_array = img_array.reshape(1, 28, 28)\n",
    "\n",
    "# モデルのロード\n",
    "model = tf.keras.models.load_model(model_dir_path)  # モデルのパスを適切に設定\n",
    "\n",
    "# 推論\n",
    "predictions = model.predict(img_array)\n",
    "predicted_class = np.argmax(predictions, axis=1)\n",
    "print(\"Predicted class:\", predicted_class)"
   ]
  },
  {
   "cell_type": "markdown",
   "metadata": {
    "id": "lbx1wmGnv-eT"
   },
   "source": [
    "補足： PIL（Pillow）のパッケージ確認。"
   ]
  },
  {
   "cell_type": "code",
   "execution_count": 18,
   "metadata": {
    "colab": {
     "base_uri": "https://localhost:8080/"
    },
    "id": "Va3VxkOMqb6b",
    "outputId": "8eab1132-84f4-4a0a-cfd8-bc7c81195cdc"
   },
   "outputs": [
    {
     "name": "stdout",
     "output_type": "stream",
     "text": [
      "Pillow                   9.2.0\n"
     ]
    }
   ],
   "source": [
    "!pip list | grep -i pillow"
   ]
  }
 ],
 "metadata": {
  "colab": {
   "collapsed_sections": [
    "h9ZizciZmgQn"
   ],
   "include_colab_link": true,
   "provenance": [],
   "toc_visible": true
  },
  "kernelspec": {
   "display_name": "Python 3 (ipykernel)",
   "language": "python",
   "name": "python3"
  },
  "language_info": {
   "codemirror_mode": {
    "name": "ipython",
    "version": 3
   },
   "file_extension": ".py",
   "mimetype": "text/x-python",
   "name": "python",
   "nbconvert_exporter": "python",
   "pygments_lexer": "ipython3",
   "version": "3.8.10"
  }
 },
 "nbformat": 4,
 "nbformat_minor": 4
}
