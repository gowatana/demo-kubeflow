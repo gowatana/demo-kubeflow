{
  "nbformat": 4,
  "nbformat_minor": 0,
  "metadata": {
    "colab": {
      "provenance": [],
      "toc_visible": true,
      "collapsed_sections": [
        "h9ZizciZmgQn"
      ],
      "include_colab_link": true
    },
    "kernelspec": {
      "name": "python3",
      "display_name": "Python 3"
    },
    "language_info": {
      "name": "python"
    }
  },
  "cells": [
    {
      "cell_type": "markdown",
      "metadata": {
        "id": "view-in-github",
        "colab_type": "text"
      },
      "source": [
        "<a href=\"https://colab.research.google.com/gist/gowatana/1fc66e48db015732e3a88870af2ac67b/demo-tensorflow-mnist.ipynb\" target=\"_parent\"><img src=\"https://colab.research.google.com/assets/colab-badge.svg\" alt=\"Open In Colab\"/></a>"
      ]
    },
    {
      "cell_type": "markdown",
      "source": [
        "参考：初心者のための TensorFlow 2.0 入門\n",
        "https://www.tensorflow.org/tutorials/quickstart/beginner?hl=ja\n"
      ],
      "metadata": {
        "id": "fLEkkAZNgQih"
      }
    },
    {
      "cell_type": "markdown",
      "source": [
        "# 1. モデルの作成（コードの逐次実行）"
      ],
      "metadata": {
        "id": "QjBez0LYtIBT"
      }
    },
    {
      "cell_type": "markdown",
      "source": [
        "TensorFlowのバージョン確認"
      ],
      "metadata": {
        "id": "ZT5V_7XBtCIa"
      }
    },
    {
      "cell_type": "code",
      "source": [
        "import tensorflow as tf\n",
        "print(tf.__version__)"
      ],
      "metadata": {
        "id": "_r9_EO26s8Zh"
      },
      "execution_count": null,
      "outputs": []
    },
    {
      "cell_type": "markdown",
      "source": [
        "サンプル データセット（MNIST）の読み込み"
      ],
      "metadata": {
        "id": "sBmLDehltRLq"
      }
    },
    {
      "cell_type": "code",
      "source": [
        "mnist = tf.keras.datasets.mnist\n",
        "\n",
        "(x_train, y_train), (x_test, y_test) = mnist.load_data()\n",
        "x_train, x_test = x_train / 255.0, x_test / 255.0"
      ],
      "metadata": {
        "id": "qoEVBkFtgL3Y"
      },
      "execution_count": null,
      "outputs": []
    },
    {
      "cell_type": "markdown",
      "source": [
        "モデルを定義する。"
      ],
      "metadata": {
        "id": "eoIBqvKetZGQ"
      }
    },
    {
      "cell_type": "code",
      "source": [
        "model = tf.keras.models.Sequential([\n",
        "  tf.keras.layers.Flatten(),\n",
        "  tf.keras.layers.Dense(128, activation=tf.nn.relu),\n",
        "  tf.keras.layers.Dropout(0.2),\n",
        "  tf.keras.layers.Dense(10, activation=tf.nn.softmax)\n",
        "])"
      ],
      "metadata": {
        "id": "m8eFie7zgMao"
      },
      "execution_count": null,
      "outputs": []
    },
    {
      "cell_type": "markdown",
      "source": [
        "モデルをコンパイルする。"
      ],
      "metadata": {
        "id": "1uWYU33vtb1J"
      }
    },
    {
      "cell_type": "code",
      "source": [
        "model.compile(optimizer='adam',\n",
        "              loss='sparse_categorical_crossentropy',\n",
        "              metrics=['accuracy'])"
      ],
      "metadata": {
        "id": "p4ybjW5dgUSk"
      },
      "execution_count": null,
      "outputs": []
    },
    {
      "cell_type": "markdown",
      "source": [
        "トレーニングを実行する。エポックの回数は5"
      ],
      "metadata": {
        "id": "g54fH40dtidq"
      }
    },
    {
      "cell_type": "code",
      "source": [
        "model.fit(x_train, y_train, epochs=5)"
      ],
      "metadata": {
        "id": "uWzlbpkoghSy"
      },
      "execution_count": null,
      "outputs": []
    },
    {
      "cell_type": "markdown",
      "source": [
        "テストデータで、モデルを評価。"
      ],
      "metadata": {
        "id": "h1gmTvYttzBQ"
      }
    },
    {
      "cell_type": "code",
      "source": [
        "model.evaluate(x_test,  y_test)"
      ],
      "metadata": {
        "id": "0kgfyxyogkZ2"
      },
      "execution_count": null,
      "outputs": []
    },
    {
      "cell_type": "code",
      "source": [
        "model.evaluate(x_test,  y_test, verbose=2)"
      ],
      "metadata": {
        "id": "Dlu_X0_thoo8"
      },
      "execution_count": null,
      "outputs": []
    },
    {
      "cell_type": "markdown",
      "source": [
        "# 2. モデルの作成（ここまでのまとめ）\n",
        "ここまでの手順をまとめて、ひとつのコードとして実行する。"
      ],
      "metadata": {
        "id": "VQYfXQB2t4Eb"
      }
    },
    {
      "cell_type": "code",
      "source": [
        "import tensorflow as tf\n",
        "mnist = tf.keras.datasets.mnist\n",
        "\n",
        "(x_train, y_train), (x_test, y_test) = mnist.load_data()\n",
        "x_train, x_test = x_train / 255.0, x_test / 255.0\n",
        "\n",
        "model = tf.keras.models.Sequential([\n",
        "  tf.keras.layers.Flatten(),\n",
        "  tf.keras.layers.Dense(128, activation=tf.nn.relu),\n",
        "  tf.keras.layers.Dropout(0.2),\n",
        "  tf.keras.layers.Dense(10, activation=tf.nn.softmax)\n",
        "])\n",
        "\n",
        "model.compile(optimizer='adam',\n",
        "              loss='sparse_categorical_crossentropy',\n",
        "              metrics=['accuracy'])\n",
        "\n",
        "model.fit(x_train, y_train, epochs=5)\n",
        "\n",
        "model.evaluate(x_test,  y_test)"
      ],
      "metadata": {
        "id": "fuGNik3riD3B"
      },
      "execution_count": null,
      "outputs": []
    },
    {
      "cell_type": "markdown",
      "source": [
        "# 3. 推論の実行"
      ],
      "metadata": {
        "id": "h9ZizciZmgQn"
      }
    },
    {
      "cell_type": "markdown",
      "source": [
        "## 画像を生成して、推論してみる。\n",
        "\n"
      ],
      "metadata": {
        "id": "FOLIJ_SAupv-"
      }
    },
    {
      "cell_type": "markdown",
      "source": [
        "画像を生成"
      ],
      "metadata": {
        "id": "R1mO8ZP_yeU2"
      }
    },
    {
      "cell_type": "code",
      "source": [
        "import numpy as np\n",
        "new_data = np.random.rand(28, 28)  # 28x28ピクセルの新しい画像を生成\n",
        "new_data = new_data.reshape(1, 28, 28) / 255.0  # 形状を変更し、正規化"
      ],
      "metadata": {
        "id": "dOo1JDRamjMK"
      },
      "execution_count": null,
      "outputs": []
    },
    {
      "cell_type": "markdown",
      "source": [
        "作成した画像で推論。"
      ],
      "metadata": {
        "id": "WxDvZI73u5rL"
      }
    },
    {
      "cell_type": "code",
      "source": [
        "predictions = model.predict(new_data)\n",
        "predicted_class = np.argmax(predictions, axis=1)\n",
        "print(\"Predicted class:\", predicted_class)"
      ],
      "metadata": {
        "id": "pc61Tl61mtbn"
      },
      "execution_count": null,
      "outputs": []
    },
    {
      "cell_type": "markdown",
      "source": [
        "生成された画像を表示する。（new_data 変数に格納されている）"
      ],
      "metadata": {
        "id": "ByFs3l45m9iJ"
      }
    },
    {
      "cell_type": "code",
      "source": [
        "import matplotlib.pyplot as plt\n",
        "\n",
        "# new_dataが (1, 28, 28) の形状をしている場合、最初の次元を削除\n",
        "if new_data.shape[0] == 1:\n",
        "    new_data = new_data.reshape(28, 28)\n",
        "\n",
        "plt.imshow(new_data, cmap='gray')  # グレースケールで表示\n",
        "plt.colorbar()  # カラーバーを表示\n",
        "plt.show()"
      ],
      "metadata": {
        "id": "KRaPLB5Bm-pm"
      },
      "execution_count": null,
      "outputs": []
    },
    {
      "cell_type": "markdown",
      "source": [
        "# 4. モデルの保存\n",
        "\n",
        "SavedModel形式で保存する。"
      ],
      "metadata": {
        "id": "T3EDA9qmlvCF"
      }
    },
    {
      "cell_type": "code",
      "source": [
        "model.save('mnist_saved_model')"
      ],
      "metadata": {
        "id": "rz5e4Zn7lshQ"
      },
      "execution_count": null,
      "outputs": []
    },
    {
      "cell_type": "markdown",
      "source": [
        "ファイルが保存されたことを確認する。"
      ],
      "metadata": {
        "id": "c_V9W4KvuVLO"
      }
    },
    {
      "cell_type": "code",
      "source": [
        "!ls -l"
      ],
      "metadata": {
        "id": "on45fCX2l0Oi"
      },
      "execution_count": null,
      "outputs": []
    },
    {
      "cell_type": "markdown",
      "source": [
        "モデルのロードの例"
      ],
      "metadata": {
        "id": "RAYrXoigl5mV"
      }
    },
    {
      "cell_type": "code",
      "source": [
        "new_model = tf.saved_model.load('mnist_saved_model')"
      ],
      "metadata": {
        "id": "aNwAclZBl4Yy"
      },
      "execution_count": null,
      "outputs": []
    },
    {
      "cell_type": "markdown",
      "source": [
        "# 5. 推論実行（MNISTの画像）\n",
        "\n",
        "トレーニングで利用したデータなので、まず正解するはず。"
      ],
      "metadata": {
        "id": "uurTNSoLo--N"
      }
    },
    {
      "cell_type": "markdown",
      "source": [
        "## MNISTのデータを画像ファイル（PNG）としての保存"
      ],
      "metadata": {
        "id": "HDZtKdolzMFZ"
      }
    },
    {
      "cell_type": "code",
      "source": [
        "from PIL import Image\n",
        "import tensorflow as tf\n",
        "import os\n",
        "\n",
        "dir_path = 'mnist_images'\n",
        "\n",
        "mnist = tf.keras.datasets.mnist\n",
        "(x_train, y_train), (x_test, y_test) = mnist.load_data()\n",
        "\n",
        "# 保存先のディレクトリを作成\n",
        "os.makedirs(dir_path, exist_ok=True)\n",
        "\n",
        "# 画像の保存\n",
        "for i in range(100):\n",
        "    img = Image.fromarray(x_train[i])\n",
        "    img.save(f'mnist_images/train_{i}.png')"
      ],
      "metadata": {
        "id": "8fIU1QGcpCYa"
      },
      "execution_count": null,
      "outputs": []
    },
    {
      "cell_type": "code",
      "source": [
        "!ls mnist_images/ | head"
      ],
      "metadata": {
        "colab": {
          "base_uri": "https://localhost:8080/"
        },
        "id": "gs8W44q2pRGC",
        "outputId": "fb8f0180-9678-444c-dc1c-bd27a6b1f270"
      },
      "execution_count": null,
      "outputs": [
        {
          "output_type": "stream",
          "name": "stdout",
          "text": [
            "train_0.png\n",
            "train_10.png\n",
            "train_11.png\n",
            "train_12.png\n",
            "train_13.png\n",
            "train_14.png\n",
            "train_15.png\n",
            "train_16.png\n",
            "train_17.png\n",
            "train_18.png\n"
          ]
        }
      ]
    },
    {
      "cell_type": "markdown",
      "source": [
        "画像の表示\n",
        "\n",
        "ファイルを指定する。（例： train_1.png）"
      ],
      "metadata": {
        "id": "FYIx02_Jpn_p"
      }
    },
    {
      "cell_type": "code",
      "source": [
        "img_file_name = 'mnist_images/train_1.png'"
      ],
      "metadata": {
        "id": "tjuWaCKpviLm"
      },
      "execution_count": null,
      "outputs": []
    },
    {
      "cell_type": "markdown",
      "source": [
        "指定した画像を表示して確認。"
      ],
      "metadata": {
        "id": "vZRhNN4Pvty9"
      }
    },
    {
      "cell_type": "code",
      "source": [
        "import matplotlib.pyplot as plt\n",
        "from PIL import Image\n",
        "\n",
        "img = Image.open(img_file_name)\n",
        "plt.imshow(img, cmap='gray')  # 画像がグレースケールの場合は cmap='gray' を使用\n",
        "plt.show()"
      ],
      "metadata": {
        "colab": {
          "base_uri": "https://localhost:8080/",
          "height": 430
        },
        "id": "0C2H6hu7pnKU",
        "outputId": "86402eaa-40a5-49a6-8ea9-d92500ad06b4"
      },
      "execution_count": null,
      "outputs": [
        {
          "output_type": "display_data",
          "data": {
            "text/plain": [
              "<Figure size 640x480 with 1 Axes>"
            ],
            "image/png": "[encoded data removed]"
          },
          "metadata": {}
        }
      ]
    },
    {
      "cell_type": "markdown",
      "source": [
        "## 推論の実行\n",
        "\n",
        "事前に、img_file_name = 'mnist_images/train_1.png' を指定してあるはず。\n",
        "\n",
        "PIL（Python Image Library）のパッケージはPillow"
      ],
      "metadata": {
        "id": "v3GNPHWbqJsC"
      }
    },
    {
      "cell_type": "code",
      "source": [
        "from PIL import Image\n",
        "import numpy as np\n",
        "import tensorflow as tf\n",
        "\n",
        "# モデルを保存してあるパス\n",
        "model_dir_path = 'mnist_saved_model'\n",
        "\n",
        "# 画像の読み込み\n",
        "img = Image.open(img_file_name)\n",
        "\n",
        "# 画像をグレースケールに変換し、サイズを28x28にリサイズ\n",
        "img = img.convert('L').resize((28, 28))\n",
        "\n",
        "# NumPy配列に変換し、値を0から1の範囲に正規化\n",
        "img_array = np.array(img) / 255.0\n",
        "\n",
        "# モデルの入力形式に合わせるために配列の形状を変更（バッチサイズの次元を追加）\n",
        "img_array = img_array.reshape(1, 28, 28)\n",
        "\n",
        "# モデルのロード\n",
        "model = tf.keras.models.load_model(model_dir_path)  # モデルのパスを適切に設定\n",
        "\n",
        "# 推論\n",
        "predictions = model.predict(img_array)\n",
        "predicted_class = np.argmax(predictions, axis=1)\n",
        "print(\"Predicted class:\", predicted_class)"
      ],
      "metadata": {
        "id": "cgmU2bzDphr7"
      },
      "execution_count": null,
      "outputs": []
    },
    {
      "cell_type": "markdown",
      "source": [
        "PIL（Pillow）のパッケージ確認。"
      ],
      "metadata": {
        "id": "lbx1wmGnv-eT"
      }
    },
    {
      "cell_type": "code",
      "source": [
        "!pip list | grep -i pillow"
      ],
      "metadata": {
        "colab": {
          "base_uri": "https://localhost:8080/"
        },
        "id": "Va3VxkOMqb6b",
        "outputId": "8eab1132-84f4-4a0a-cfd8-bc7c81195cdc"
      },
      "execution_count": null,
      "outputs": [
        {
          "output_type": "stream",
          "name": "stdout",
          "text": [
            "Pillow                           9.4.0\n"
          ]
        }
      ]
    }
  ]
}