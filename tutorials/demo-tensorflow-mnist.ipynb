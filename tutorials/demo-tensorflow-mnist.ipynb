{
 "cells": [
  {
   "cell_type": "markdown",
   "metadata": {
    "colab_type": "text",
    "id": "view-in-github"
   },
   "source": [
    "<a href=\"https://colab.research.google.com/gist/gowatana/1fc66e48db015732e3a88870af2ac67b/demo-tensorflow-mnist.ipynb\" target=\"_parent\"><img src=\"https://colab.research.google.com/assets/colab-badge.svg\" alt=\"Open In Colab\"/></a>"
   ]
  },
  {
   "cell_type": "markdown",
   "metadata": {
    "id": "fLEkkAZNgQih"
   },
   "source": [
    "参考：初心者のための TensorFlow 2.0 入門\n",
    "* https://www.tensorflow.org/tutorials/quickstart/beginner?hl=ja\n"
   ]
  },
  {
   "cell_type": "markdown",
   "metadata": {
    "id": "QjBez0LYtIBT"
   },
   "source": [
    "# 1. 画像判別モデルの作成（手動実行の例）"
   ]
  },
  {
   "cell_type": "markdown",
   "metadata": {},
   "source": [
    "TensorFlowのPythonライブラリをインポート"
   ]
  },
  {
   "cell_type": "code",
   "execution_count": null,
   "metadata": {},
   "outputs": [],
   "source": [
    "import tensorflow as tf"
   ]
  },
  {
   "cell_type": "markdown",
   "metadata": {
    "id": "ZT5V_7XBtCIa"
   },
   "source": [
    "TensorFlowのバージョン確認"
   ]
  },
  {
   "cell_type": "code",
   "execution_count": 2,
   "metadata": {
    "id": "_r9_EO26s8Zh"
   },
   "outputs": [
    {
     "name": "stdout",
     "output_type": "stream",
     "text": [
      "2.5.3\n"
     ]
    }
   ],
   "source": [
    "print(tf.__version__)"
   ]
  },
  {
   "cell_type": "markdown",
   "metadata": {
    "id": "sBmLDehltRLq"
   },
   "source": [
    "## 1-1. サンプル データセット（MNIST）をダウンロード"
   ]
  },
  {
   "cell_type": "code",
   "execution_count": 3,
   "metadata": {
    "id": "qoEVBkFtgL3Y"
   },
   "outputs": [],
   "source": [
    "mnist = tf.keras.datasets.mnist"
   ]
  },
  {
   "cell_type": "markdown",
   "metadata": {},
   "source": [
    "## 1-2. 学習にむけて、データの前処理を実施"
   ]
  },
  {
   "cell_type": "code",
   "execution_count": 4,
   "metadata": {},
   "outputs": [
    {
     "name": "stdout",
     "output_type": "stream",
     "text": [
      "Downloading data from https://storage.googleapis.com/tensorflow/tf-keras-datasets/mnist.npz\n",
      "11493376/11490434 [==============================] - 2s 0us/step\n"
     ]
    }
   ],
   "source": [
    "(x_train, y_train), (x_test, y_test) = mnist.load_data()\n",
    "x_train, x_test = x_train / 255.0, x_test / 255.0"
   ]
  },
  {
   "cell_type": "markdown",
   "metadata": {
    "id": "eoIBqvKetZGQ"
   },
   "source": [
    "## 1-3. モデルの学習と保存\n",
    "\n",
    "モデルをのニューラル ネットワークを定義"
   ]
  },
  {
   "cell_type": "code",
   "execution_count": 5,
   "metadata": {
    "id": "m8eFie7zgMao"
   },
   "outputs": [
    {
     "name": "stderr",
     "output_type": "stream",
     "text": [
      "2024-02-20 14:52:53.027947: W tensorflow/stream_executor/platform/default/dso_loader.cc:64] Could not load dynamic library 'libcuda.so.1'; dlerror: libcuda.so.1: cannot open shared object file: No such file or directory\n",
      "2024-02-20 14:52:53.028029: W tensorflow/stream_executor/cuda/cuda_driver.cc:326] failed call to cuInit: UNKNOWN ERROR (303)\n",
      "2024-02-20 14:52:53.028073: I tensorflow/stream_executor/cuda/cuda_diagnostics.cc:156] kernel driver does not appear to be running on this host (note-01-0): /proc/driver/nvidia/version does not exist\n",
      "2024-02-20 14:52:53.028506: I tensorflow/core/platform/cpu_feature_guard.cc:142] This TensorFlow binary is optimized with oneAPI Deep Neural Network Library (oneDNN) to use the following CPU instructions in performance-critical operations:  AVX2 FMA\n",
      "To enable them in other operations, rebuild TensorFlow with the appropriate compiler flags.\n"
     ]
    }
   ],
   "source": [
    "model = tf.keras.models.Sequential([\n",
    "    tf.keras.layers.Flatten(input_shape=(28, 28)),\n",
    "    tf.keras.layers.Dense(128, activation='relu'),\n",
    "    tf.keras.layers.Dropout(0.2),\n",
    "    tf.keras.layers.Dense(10)\n",
    "])"
   ]
  },
  {
   "cell_type": "markdown",
   "metadata": {
    "id": "1uWYU33vtb1J"
   },
   "source": [
    "モデルを作成（コンパイル）"
   ]
  },
  {
   "cell_type": "code",
   "execution_count": 6,
   "metadata": {
    "id": "p4ybjW5dgUSk"
   },
   "outputs": [],
   "source": [
    "loss_fn = tf.keras.losses.SparseCategoricalCrossentropy(from_logits=True)\n",
    "model.compile(optimizer='adam', loss=loss_fn, metrics=['accuracy'])"
   ]
  },
  {
   "cell_type": "markdown",
   "metadata": {
    "id": "g54fH40dtidq"
   },
   "source": [
    "モデルの学習（5回繰り返す）と保存"
   ]
  },
  {
   "cell_type": "code",
   "execution_count": 7,
   "metadata": {
    "id": "uWzlbpkoghSy"
   },
   "outputs": [
    {
     "name": "stderr",
     "output_type": "stream",
     "text": [
      "2024-02-20 14:53:04.302714: W tensorflow/core/framework/cpu_allocator_impl.cc:80] Allocation of 188160000 exceeds 10% of free system memory.\n",
      "2024-02-20 14:53:04.775285: I tensorflow/compiler/mlir/mlir_graph_optimization_pass.cc:176] None of the MLIR Optimization Passes are enabled (registered 2)\n",
      "2024-02-20 14:53:04.776059: I tensorflow/core/platform/profile_utils/cpu_utils.cc:114] CPU Frequency: 2111995000 Hz\n"
     ]
    },
    {
     "name": "stdout",
     "output_type": "stream",
     "text": [
      "Epoch 1/5\n",
      "1875/1875 [==============================] - 23s 12ms/step - loss: 0.2993 - accuracy: 0.9129\n",
      "Epoch 2/5\n",
      "1875/1875 [==============================] - 22s 11ms/step - loss: 0.1456 - accuracy: 0.9556\n",
      "Epoch 3/5\n",
      "1875/1875 [==============================] - 22s 12ms/step - loss: 0.1093 - accuracy: 0.9664\n",
      "Epoch 4/5\n",
      "1875/1875 [==============================] - 21s 11ms/step - loss: 0.0898 - accuracy: 0.9721\n",
      "Epoch 5/5\n",
      "1875/1875 [==============================] - 21s 11ms/step - loss: 0.0752 - accuracy: 0.9761\n"
     ]
    },
    {
     "name": "stderr",
     "output_type": "stream",
     "text": [
      "2024-02-20 14:55:28.403120: W tensorflow/python/util/util.cc:348] Sets are not currently considered sequences, but this may change in the future, so consider avoiding using them.\n"
     ]
    },
    {
     "name": "stdout",
     "output_type": "stream",
     "text": [
      "INFO:tensorflow:Assets written to: ./mnist_saved_model/assets\n"
     ]
    }
   ],
   "source": [
    "model.fit(x_train, y_train, epochs=5)\n",
    "model.save('./mnist_saved_model')"
   ]
  },
  {
   "cell_type": "markdown",
   "metadata": {},
   "source": [
    "保存されたモデルの確認（Linuxのlsコマンド）"
   ]
  },
  {
   "cell_type": "code",
   "execution_count": 8,
   "metadata": {},
   "outputs": [
    {
     "name": "stdout",
     "output_type": "stream",
     "text": [
      "total 108\n",
      "drwxr-sr-x 2 jovyan 1337  4096 Feb 20 14:55 assets\n",
      "-rw-r--r-- 1 jovyan 1337  7913 Feb 20 14:55 keras_metadata.pb\n",
      "-rw-r--r-- 1 jovyan 1337 90945 Feb 20 14:55 saved_model.pb\n",
      "drwxr-sr-x 2 jovyan 1337  4096 Feb 20 14:55 variables\n"
     ]
    }
   ],
   "source": [
    "!ls -l ./mnist_saved_model"
   ]
  },
  {
   "cell_type": "markdown",
   "metadata": {
    "id": "h1gmTvYttzBQ"
   },
   "source": [
    "## 1-4. モデルのテスト\n",
    "\n",
    "テスト用のデータセットを利用して、作成されたモデルのテストを実施"
   ]
  },
  {
   "cell_type": "code",
   "execution_count": 9,
   "metadata": {
    "id": "Dlu_X0_thoo8"
   },
   "outputs": [
    {
     "name": "stdout",
     "output_type": "stream",
     "text": [
      "313/313 - 2s - loss: 0.0777 - accuracy: 0.9767\n"
     ]
    },
    {
     "data": {
      "text/plain": [
       "[0.07765280455350876, 0.9767000079154968]"
      ]
     },
     "execution_count": 9,
     "metadata": {},
     "output_type": "execute_result"
    }
   ],
   "source": [
    "model.evaluate(x_test, y_test, verbose=2)"
   ]
  },
  {
   "cell_type": "markdown",
   "metadata": {
    "id": "VQYfXQB2t4Eb"
   },
   "source": [
    "# ここまでのPythonコードのまとめ\n",
    "ここまでの手順をまとめて、ひとつのコードとして実行する。"
   ]
  },
  {
   "cell_type": "code",
   "execution_count": null,
   "metadata": {
    "id": "fuGNik3riD3B"
   },
   "outputs": [],
   "source": [
    "import tensorflow as tf\n",
    "\n",
    "mnist = tf.keras.datasets.mnist\n",
    "\n",
    "(x_train, y_train), (x_test, y_test) = mnist.load_data()\n",
    "x_train, x_test = x_train / 255.0, x_test / 255.0\n",
    "\n",
    "model = tf.keras.models.Sequential([\n",
    "    tf.keras.layers.Flatten(input_shape=(28, 28)),\n",
    "    tf.keras.layers.Dense(128, activation='relu'),\n",
    "    tf.keras.layers.Dropout(0.2),\n",
    "    tf.keras.layers.Dense(10)\n",
    "])\n",
    "\n",
    "loss_fn = tf.keras.losses.SparseCategoricalCrossentropy(from_logits=True)\n",
    "model.compile(optimizer='adam', loss=loss_fn, metrics=['accuracy'])\n",
    "\n",
    "model.fit(x_train, y_train, epochs=5)\n",
    "\n",
    "model.evaluate(x_test, y_test, verbose=2)"
   ]
  },
  {
   "cell_type": "markdown",
   "metadata": {
    "id": "uurTNSoLo--N"
   },
   "source": [
    "# 2. モデルによる推論の実行（MNIST画像の判別）\n",
    "\n",
    "※ただし、トレーニングで利用したMNIST画像を流用しているため、ほぼ確実に正解します。"
   ]
  },
  {
   "cell_type": "markdown",
   "metadata": {
    "id": "HDZtKdolzMFZ"
   },
   "source": [
    "## 2-1. 推論用データの用意\n",
    "\n",
    "MNISTデータセットから10件を、画像ファイル（PNG）として保存"
   ]
  },
  {
   "cell_type": "code",
   "execution_count": 10,
   "metadata": {
    "id": "8fIU1QGcpCYa"
   },
   "outputs": [],
   "source": [
    "from PIL import Image\n",
    "import tensorflow as tf\n",
    "import os\n",
    "\n",
    "dir_path = 'data/images'\n",
    "\n",
    "mnist = tf.keras.datasets.mnist\n",
    "(x_train, y_train), (x_test, y_test) = mnist.load_data()\n",
    "\n",
    "# 保存先のディレクトリを作成\n",
    "os.makedirs(dir_path, exist_ok=True)\n",
    "\n",
    "# 画像の保存\n",
    "for i in range(10):\n",
    "    img = Image.fromarray(x_train[i])\n",
    "    img.save(os.path.join(dir_path, f'test_{i}.png'))"
   ]
  },
  {
   "cell_type": "code",
   "execution_count": null,
   "metadata": {},
   "outputs": [],
   "source": [
    "10件の画像ファイルが保存されるている"
   ]
  },
  {
   "cell_type": "code",
   "execution_count": 11,
   "metadata": {
    "colab": {
     "base_uri": "https://localhost:8080/"
    },
    "id": "gs8W44q2pRGC",
    "outputId": "fb8f0180-9678-444c-dc1c-bd27a6b1f270"
   },
   "outputs": [
    {
     "name": "stdout",
     "output_type": "stream",
     "text": [
      "test_0.png  test_2.png\ttest_4.png  test_6.png\ttest_8.png\n",
      "test_1.png  test_3.png\ttest_5.png  test_7.png\ttest_9.png\n"
     ]
    }
   ],
   "source": [
    "!ls data/images/"
   ]
  },
  {
   "cell_type": "markdown",
   "metadata": {
    "id": "FYIx02_Jpn_p"
   },
   "source": [
    "画像の表示確認\n",
    "\n",
    "1行目でファイルを指定する。\n",
    "\n",
    "* 例： test_0.png → 「5」"
   ]
  },
  {
   "cell_type": "code",
   "execution_count": 12,
   "metadata": {
    "colab": {
     "base_uri": "https://localhost:8080/",
     "height": 430
    },
    "id": "0C2H6hu7pnKU",
    "outputId": "86402eaa-40a5-49a6-8ea9-d92500ad06b4"
   },
   "outputs": [
    {
     "data": {
      "image/png": "[encoded data removed]",
      "text/plain": [
       "<Figure size 640x480 with 1 Axes>"
      ]
     },
     "metadata": {},
     "output_type": "display_data"
    }
   ],
   "source": [
    "img_file_name = 'data/images/test_0.png'\n",
    "\n",
    "import matplotlib.pyplot as plt\n",
    "from PIL import Image\n",
    "img = Image.open(img_file_name)\n",
    "plt.imshow(img, cmap='gray')  # 画像がグレースケールの場合は cmap='gray' を使用\n",
    "plt.show()"
   ]
  },
  {
   "cell_type": "markdown",
   "metadata": {
    "id": "v3GNPHWbqJsC"
   },
   "source": [
    "## 2-2. モデルによる推論の実行\n",
    "\n",
    "生成したモデルで、直前に表示した画像に書かれている数字を判別します。\n",
    "\n",
    "※直前のコード実行で、img_file_name = 'data/images/test_0.png' を指定してあります。"
   ]
  },
  {
   "cell_type": "code",
   "execution_count": 13,
   "metadata": {
    "id": "cgmU2bzDphr7"
   },
   "outputs": [
    {
     "name": "stdout",
     "output_type": "stream",
     "text": [
      "Number: [5]\n"
     ]
    }
   ],
   "source": [
    "from PIL import Image\n",
    "import numpy as np\n",
    "import tensorflow as tf\n",
    "\n",
    "# 画像の読み込み\n",
    "img = Image.open(img_file_name)\n",
    "\n",
    "# 前処理として、モデルの入力形式に合わせるために\n",
    "# 画像のグレースケール変換、サイズ変更などを行う\n",
    "img = img.convert('L').resize((28, 28))\n",
    "img_array = np.array(img) / 255.0\n",
    "img_array = img_array.reshape(1, 28, 28)\n",
    "\n",
    "# 保存されているモデルのロード\n",
    "model = tf.keras.models.load_model('./mnist_saved_model')\n",
    "\n",
    "# 推論の実行\n",
    "predictions = model.predict(img_array)\n",
    "predicted_class = np.argmax(predictions, axis=1)\n",
    "print(\"Number:\", predicted_class)"
   ]
  }
 ],
 "metadata": {
  "colab": {
   "collapsed_sections": [
    "h9ZizciZmgQn"
   ],
   "include_colab_link": true,
   "provenance": [],
   "toc_visible": true
  },
  "kernelspec": {
   "display_name": "Python 3 (ipykernel)",
   "language": "python",
   "name": "python3"
  },
  "language_info": {
   "codemirror_mode": {
    "name": "ipython",
    "version": 3
   },
   "file_extension": ".py",
   "mimetype": "text/x-python",
   "name": "python",
   "nbconvert_exporter": "python",
   "pygments_lexer": "ipython3",
   "version": "3.8.10"
  }
 },
 "nbformat": 4,
 "nbformat_minor": 4
}
