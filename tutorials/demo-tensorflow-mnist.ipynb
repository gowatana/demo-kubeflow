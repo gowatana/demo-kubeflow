{
 "cells": [
  {
   "cell_type": "markdown",
   "metadata": {
    "colab_type": "text",
    "id": "view-in-github"
   },
   "source": [
    "<a href=\"https://colab.research.google.com/gist/gowatana/1fc66e48db015732e3a88870af2ac67b/demo-tensorflow-mnist.ipynb\" target=\"_parent\"><img src=\"https://colab.research.google.com/assets/colab-badge.svg\" alt=\"Open In Colab\"/></a>"
   ]
  },
  {
   "cell_type": "markdown",
   "metadata": {
    "id": "fLEkkAZNgQih"
   },
   "source": [
    "参考：初心者のための TensorFlow 2.0 入門\n",
    "* https://www.tensorflow.org/tutorials/quickstart/beginner?hl=ja\n"
   ]
  },
  {
   "cell_type": "markdown",
   "metadata": {
    "id": "QjBez0LYtIBT"
   },
   "source": [
    "# 1. 画像判別モデルの作成（手動実行の例）"
   ]
  },
  {
   "cell_type": "markdown",
   "metadata": {},
   "source": [
    "TensorFlowのPythonライブラリをインポート"
   ]
  },
  {
   "cell_type": "code",
   "execution_count": null,
   "metadata": {},
   "outputs": [],
   "source": [
    "import tensorflow as tf"
   ]
  },
  {
   "cell_type": "markdown",
   "metadata": {
    "id": "ZT5V_7XBtCIa"
   },
   "source": [
    "TensorFlowのバージョン確認"
   ]
  },
  {
   "cell_type": "code",
   "execution_count": null,
   "metadata": {
    "id": "_r9_EO26s8Zh"
   },
   "outputs": [],
   "source": [
    "print(tf.__version__)"
   ]
  },
  {
   "cell_type": "markdown",
   "metadata": {
    "id": "sBmLDehltRLq"
   },
   "source": [
    "## 1-1. サンプル データセット（MNIST）をダウンロード"
   ]
  },
  {
   "cell_type": "code",
   "execution_count": 3,
   "metadata": {
    "id": "qoEVBkFtgL3Y"
   },
   "outputs": [],
   "source": [
    "mnist = tf.keras.datasets.mnist"
   ]
  },
  {
   "cell_type": "markdown",
   "metadata": {},
   "source": [
    "## 1-2. 学習にむけて、データの前処理を実施"
   ]
  },
  {
   "cell_type": "code",
   "execution_count": null,
   "metadata": {},
   "outputs": [],
   "source": [
    "(x_train, y_train), (x_test, y_test) = mnist.load_data()\n",
    "x_train, x_test = x_train / 255.0, x_test / 255.0"
   ]
  },
  {
   "cell_type": "markdown",
   "metadata": {
    "id": "eoIBqvKetZGQ"
   },
   "source": [
    "## 1-3. モデルの学習と保存\n",
    "\n",
    "モデルのニューラル ネットワークを定義"
   ]
  },
  {
   "cell_type": "code",
   "execution_count": null,
   "metadata": {
    "id": "m8eFie7zgMao"
   },
   "outputs": [],
   "source": [
    "model = tf.keras.models.Sequential([\n",
    "    tf.keras.layers.Flatten(input_shape=(28, 28)),\n",
    "    tf.keras.layers.Dense(128, activation='relu'),\n",
    "    tf.keras.layers.Dropout(0.2),\n",
    "    tf.keras.layers.Dense(10)\n",
    "])"
   ]
  },
  {
   "cell_type": "markdown",
   "metadata": {
    "id": "1uWYU33vtb1J"
   },
   "source": [
    "モデルを作成（コンパイル）"
   ]
  },
  {
   "cell_type": "code",
   "execution_count": 6,
   "metadata": {
    "id": "p4ybjW5dgUSk"
   },
   "outputs": [],
   "source": [
    "loss_fn = tf.keras.losses.SparseCategoricalCrossentropy(from_logits=True)\n",
    "model.compile(optimizer='adam', loss=loss_fn, metrics=['accuracy'])"
   ]
  },
  {
   "cell_type": "markdown",
   "metadata": {
    "id": "g54fH40dtidq"
   },
   "source": [
    "モデルの学習（5回繰り返す）と保存"
   ]
  },
  {
   "cell_type": "code",
   "execution_count": null,
   "metadata": {
    "id": "uWzlbpkoghSy"
   },
   "outputs": [],
   "source": [
    "model.fit(x_train, y_train, epochs=5)\n",
    "model.save('./mnist_saved_model')"
   ]
  },
  {
   "cell_type": "markdown",
   "metadata": {},
   "source": [
    "保存されたモデルの確認（Linuxのlsコマンド）"
   ]
  },
  {
   "cell_type": "code",
   "execution_count": null,
   "metadata": {},
   "outputs": [],
   "source": [
    "!ls -l ./mnist_saved_model"
   ]
  },
  {
   "cell_type": "markdown",
   "metadata": {
    "id": "h1gmTvYttzBQ"
   },
   "source": [
    "## 1-4. モデルのテスト\n",
    "\n",
    "テスト用のデータセットを利用して、作成されたモデルのテストを実施"
   ]
  },
  {
   "cell_type": "code",
   "execution_count": null,
   "metadata": {
    "id": "Dlu_X0_thoo8"
   },
   "outputs": [],
   "source": [
    "model.evaluate(x_test, y_test, verbose=2)"
   ]
  },
  {
   "cell_type": "markdown",
   "metadata": {
    "id": "VQYfXQB2t4Eb"
   },
   "source": [
    "# ここまでのPythonコードのまとめ\n",
    "ここまでの手順をまとめて、ひとつのコードとして実行する。"
   ]
  },
  {
   "cell_type": "code",
   "execution_count": null,
   "metadata": {
    "id": "fuGNik3riD3B"
   },
   "outputs": [],
   "source": [
    "import tensorflow as tf\n",
    "\n",
    "mnist = tf.keras.datasets.mnist\n",
    "\n",
    "(x_train, y_train), (x_test, y_test) = mnist.load_data()\n",
    "x_train, x_test = x_train / 255.0, x_test / 255.0\n",
    "\n",
    "model = tf.keras.models.Sequential([\n",
    "    tf.keras.layers.Flatten(input_shape=(28, 28)),\n",
    "    tf.keras.layers.Dense(128, activation='relu'),\n",
    "    tf.keras.layers.Dropout(0.2),\n",
    "    tf.keras.layers.Dense(10)\n",
    "])\n",
    "\n",
    "loss_fn = tf.keras.losses.SparseCategoricalCrossentropy(from_logits=True)\n",
    "model.compile(optimizer='adam', loss=loss_fn, metrics=['accuracy'])\n",
    "\n",
    "model.fit(x_train, y_train, epochs=5)\n",
    "\n",
    "model.evaluate(x_test, y_test, verbose=2)"
   ]
  },
  {
   "cell_type": "markdown",
   "metadata": {
    "id": "uurTNSoLo--N"
   },
   "source": [
    "# 2. モデルによる推論の実行（MNIST画像の判別）\n",
    "\n",
    "※ただし、トレーニングで利用したMNIST画像を流用しているため、ほぼ確実に正解します。"
   ]
  },
  {
   "cell_type": "markdown",
   "metadata": {
    "id": "HDZtKdolzMFZ"
   },
   "source": [
    "## 2-1. 推論用データの用意\n",
    "\n",
    "MNISTデータセットから10件を、画像ファイル（PNG）として保存"
   ]
  },
  {
   "cell_type": "code",
   "execution_count": 10,
   "metadata": {
    "id": "8fIU1QGcpCYa"
   },
   "outputs": [],
   "source": [
    "from PIL import Image\n",
    "import tensorflow as tf\n",
    "import os\n",
    "\n",
    "dir_path = 'data/images'\n",
    "\n",
    "mnist = tf.keras.datasets.mnist\n",
    "(x_train, y_train), (x_test, y_test) = mnist.load_data()\n",
    "\n",
    "# 保存先のディレクトリを作成\n",
    "os.makedirs(dir_path, exist_ok=True)\n",
    "\n",
    "# 画像の保存\n",
    "for i in range(10):\n",
    "    img = Image.fromarray(x_train[i])\n",
    "    img.save(os.path.join(dir_path, f'test_{i}.png'))"
   ]
  },
  {
   "cell_type": "markdown",
   "metadata": {},
   "source": [
    "10件の画像ファイルが保存されたことを確認"
   ]
  },
  {
   "cell_type": "code",
   "execution_count": null,
   "metadata": {
    "colab": {
     "base_uri": "https://localhost:8080/"
    },
    "id": "gs8W44q2pRGC",
    "outputId": "fb8f0180-9678-444c-dc1c-bd27a6b1f270"
   },
   "outputs": [],
   "source": [
    "!ls data/images/"
   ]
  },
  {
   "cell_type": "markdown",
   "metadata": {
    "id": "FYIx02_Jpn_p"
   },
   "source": [
    "画像の表示確認\n",
    "\n",
    "コードの1行目でファイルを指定する。\n",
    "\n",
    "* 例1： test_0.png → 「5」\n",
    "* 例2： test_1.png → 「0」\n",
    "* 例3： test_2.png → 「4」"
   ]
  },
  {
   "cell_type": "code",
   "execution_count": null,
   "metadata": {
    "colab": {
     "base_uri": "https://localhost:8080/",
     "height": 430
    },
    "id": "0C2H6hu7pnKU",
    "outputId": "86402eaa-40a5-49a6-8ea9-d92500ad06b4"
   },
   "outputs": [],
   "source": [
    "img_file_name = 'data/images/test_0.png'\n",
    "\n",
    "import matplotlib.pyplot as plt\n",
    "from PIL import Image\n",
    "img = Image.open(img_file_name)\n",
    "plt.imshow(img, cmap='gray')  # 画像がグレースケールの場合は cmap='gray' を使用\n",
    "plt.show()"
   ]
  },
  {
   "cell_type": "markdown",
   "metadata": {
    "id": "v3GNPHWbqJsC"
   },
   "source": [
    "## 2-2. モデルによる推論の実行\n",
    "\n",
    "生成したモデルで、直前に表示した画像に書かれている数字を判別します。\n",
    "\n",
    "※直前のコード実行で、img_file_name = 'data/images/test_0.png' を指定してあります。"
   ]
  },
  {
   "cell_type": "code",
   "execution_count": null,
   "metadata": {
    "id": "cgmU2bzDphr7"
   },
   "outputs": [],
   "source": [
    "from PIL import Image\n",
    "import numpy as np\n",
    "import tensorflow as tf\n",
    "\n",
    "# 画像の読み込み\n",
    "img = Image.open(img_file_name)\n",
    "\n",
    "# 前処理として、モデルの入力形式に合わせるために\n",
    "# 画像のグレースケール変換、サイズ変更などを行う\n",
    "img = img.convert('L').resize((28, 28))\n",
    "img_array = np.array(img) / 255.0\n",
    "img_array = img_array.reshape(1, 28, 28)\n",
    "\n",
    "# 保存されているモデルのロード\n",
    "model = tf.keras.models.load_model('./mnist_saved_model')\n",
    "\n",
    "# 推論の実行\n",
    "predictions = model.predict(img_array)\n",
    "predicted_class = np.argmax(predictions, axis=1)\n",
    "print(\"Number:\", predicted_class)"
   ]
  }
 ],
 "metadata": {
  "colab": {
   "collapsed_sections": [
    "h9ZizciZmgQn"
   ],
   "include_colab_link": true,
   "provenance": [],
   "toc_visible": true
  },
  "kernelspec": {
   "display_name": "Python 3 (ipykernel)",
   "language": "python",
   "name": "python3"
  },
  "language_info": {
   "codemirror_mode": {
    "name": "ipython",
    "version": 3
   },
   "file_extension": ".py",
   "mimetype": "text/x-python",
   "name": "python",
   "nbconvert_exporter": "python",
   "pygments_lexer": "ipython3",
   "version": "3.8.10"
  }
 },
 "nbformat": 4,
 "nbformat_minor": 4
}
